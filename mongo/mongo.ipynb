{
 "cells": [
  {
   "cell_type": "markdown",
   "metadata": {},
   "source": [
    "## Imports"
   ]
  },
  {
   "cell_type": "code",
   "execution_count": 92,
   "metadata": {},
   "outputs": [],
   "source": [
    "# Std Libs\n",
    "import requests\n",
    "import io\n",
    "from datetime import datetime\n",
    "\n",
    "# Third party libs\n",
    "import pandas as pd\n",
    "import pymongo\n",
    "from pymongo import MongoClient\n",
    "\n",
    "#To avoid deprecation warnings\n",
    "import warnings\n",
    "warnings.filterwarnings('ignore')"
   ]
  },
  {
   "cell_type": "markdown",
   "metadata": {},
   "source": [
    "## Mongo db is running inside a container on local host"
   ]
  },
  {
   "cell_type": "code",
   "execution_count": 3,
   "metadata": {},
   "outputs": [],
   "source": [
    "client = MongoClient('mongodb://localhost:27017/',\n",
    "username='root',\n",
    "password='MongoDB2020')"
   ]
  },
  {
   "cell_type": "markdown",
   "metadata": {},
   "source": [
    "## Mong express from the compose is available at http://penguin.linux.test:8081"
   ]
  },
  {
   "cell_type": "markdown",
   "metadata": {},
   "source": [
    " "
   ]
  },
  {
   "cell_type": "markdown",
   "metadata": {},
   "source": [
    "## DB Operations"
   ]
  },
  {
   "cell_type": "markdown",
   "metadata": {},
   "source": [
    "### Create a new db and collection."
   ]
  },
  {
   "cell_type": "code",
   "execution_count": 8,
   "metadata": {},
   "outputs": [],
   "source": [
    "db = client['database']\n",
    "coll = db['covid_uk']"
   ]
  },
  {
   "cell_type": "code",
   "execution_count": 9,
   "metadata": {},
   "outputs": [
    {
     "data": {
      "text/plain": [
       "['admin', 'config', 'database', 'local']"
      ]
     },
     "execution_count": 9,
     "metadata": {},
     "output_type": "execute_result"
    }
   ],
   "source": [
    "client.list_database_names()"
   ]
  },
  {
   "cell_type": "code",
   "execution_count": 76,
   "metadata": {},
   "outputs": [
    {
     "data": {
      "text/plain": [
       "['covid_uk']"
      ]
     },
     "execution_count": 76,
     "metadata": {},
     "output_type": "execute_result"
    }
   ],
   "source": [
    "db.list_collection_names()"
   ]
  },
  {
   "cell_type": "markdown",
   "metadata": {},
   "source": [
    "### Loading data from Pandas to Mongo"
   ]
  },
  {
   "cell_type": "markdown",
   "metadata": {},
   "source": [
    "#### Get in some data for testing."
   ]
  },
  {
   "cell_type": "code",
   "execution_count": 14,
   "metadata": {},
   "outputs": [],
   "source": [
    "def read_in_data():\n",
    "    datastr = requests.get(\n",
    "        'https://coronavirus.data.gov.uk/downloads/csv/coronavirus-cases_latest.csv', allow_redirects=True).text\n",
    "    data_file = io.StringIO(datastr)\n",
    "    d = pd.read_csv(data_file, parse_dates=['Specimen date'])\n",
    "    return d"
   ]
  },
  {
   "cell_type": "markdown",
   "metadata": {},
   "source": [
    " "
   ]
  },
  {
   "cell_type": "code",
   "execution_count": 15,
   "metadata": {},
   "outputs": [],
   "source": [
    "d = read_in_data()"
   ]
  },
  {
   "cell_type": "code",
   "execution_count": 17,
   "metadata": {},
   "outputs": [
    {
     "data": {
      "text/plain": [
       "(8400, 10)"
      ]
     },
     "execution_count": 17,
     "metadata": {},
     "output_type": "execute_result"
    }
   ],
   "source": [
    "d.shape"
   ]
  },
  {
   "cell_type": "code",
   "execution_count": 18,
   "metadata": {},
   "outputs": [
    {
     "data": {
      "text/html": [
       "<div>\n",
       "<style scoped>\n",
       "    .dataframe tbody tr th:only-of-type {\n",
       "        vertical-align: middle;\n",
       "    }\n",
       "\n",
       "    .dataframe tbody tr th {\n",
       "        vertical-align: top;\n",
       "    }\n",
       "\n",
       "    .dataframe thead th {\n",
       "        text-align: right;\n",
       "    }\n",
       "</style>\n",
       "<table border=\"1\" class=\"dataframe\">\n",
       "  <thead>\n",
       "    <tr style=\"text-align: right;\">\n",
       "      <th></th>\n",
       "      <th>Area name</th>\n",
       "      <th>Area code</th>\n",
       "      <th>Area type</th>\n",
       "      <th>Specimen date</th>\n",
       "      <th>Daily lab-confirmed cases</th>\n",
       "      <th>Previously reported daily cases</th>\n",
       "      <th>Change in daily cases</th>\n",
       "      <th>Cumulative lab-confirmed cases</th>\n",
       "      <th>Previously reported cumulative cases</th>\n",
       "      <th>Change in cumulative cases</th>\n",
       "    </tr>\n",
       "  </thead>\n",
       "  <tbody>\n",
       "    <tr>\n",
       "      <th>0</th>\n",
       "      <td>England</td>\n",
       "      <td>E92000001</td>\n",
       "      <td>Nation</td>\n",
       "      <td>2020-05-01</td>\n",
       "      <td>95.0</td>\n",
       "      <td>0.0</td>\n",
       "      <td>95.0</td>\n",
       "      <td>122842</td>\n",
       "      <td>120614.0</td>\n",
       "      <td>2228.0</td>\n",
       "    </tr>\n",
       "    <tr>\n",
       "      <th>1</th>\n",
       "      <td>South West</td>\n",
       "      <td>E12000009</td>\n",
       "      <td>Region</td>\n",
       "      <td>2020-05-01</td>\n",
       "      <td>5.0</td>\n",
       "      <td>NaN</td>\n",
       "      <td>NaN</td>\n",
       "      <td>6405</td>\n",
       "      <td>NaN</td>\n",
       "      <td>NaN</td>\n",
       "    </tr>\n",
       "    <tr>\n",
       "      <th>2</th>\n",
       "      <td>South East</td>\n",
       "      <td>E12000008</td>\n",
       "      <td>Region</td>\n",
       "      <td>2020-05-01</td>\n",
       "      <td>11.0</td>\n",
       "      <td>NaN</td>\n",
       "      <td>NaN</td>\n",
       "      <td>17324</td>\n",
       "      <td>NaN</td>\n",
       "      <td>NaN</td>\n",
       "    </tr>\n",
       "    <tr>\n",
       "      <th>3</th>\n",
       "      <td>London</td>\n",
       "      <td>E12000007</td>\n",
       "      <td>Region</td>\n",
       "      <td>2020-05-01</td>\n",
       "      <td>3.0</td>\n",
       "      <td>NaN</td>\n",
       "      <td>NaN</td>\n",
       "      <td>24700</td>\n",
       "      <td>NaN</td>\n",
       "      <td>NaN</td>\n",
       "    </tr>\n",
       "    <tr>\n",
       "      <th>4</th>\n",
       "      <td>East of England</td>\n",
       "      <td>E12000006</td>\n",
       "      <td>Region</td>\n",
       "      <td>2020-05-01</td>\n",
       "      <td>7.0</td>\n",
       "      <td>NaN</td>\n",
       "      <td>NaN</td>\n",
       "      <td>10785</td>\n",
       "      <td>NaN</td>\n",
       "      <td>NaN</td>\n",
       "    </tr>\n",
       "  </tbody>\n",
       "</table>\n",
       "</div>"
      ],
      "text/plain": [
       "         Area name  Area code Area type Specimen date  \\\n",
       "0          England  E92000001    Nation    2020-05-01   \n",
       "1       South West  E12000009    Region    2020-05-01   \n",
       "2       South East  E12000008    Region    2020-05-01   \n",
       "3           London  E12000007    Region    2020-05-01   \n",
       "4  East of England  E12000006    Region    2020-05-01   \n",
       "\n",
       "   Daily lab-confirmed cases  Previously reported daily cases  \\\n",
       "0                       95.0                              0.0   \n",
       "1                        5.0                              NaN   \n",
       "2                       11.0                              NaN   \n",
       "3                        3.0                              NaN   \n",
       "4                        7.0                              NaN   \n",
       "\n",
       "   Change in daily cases  Cumulative lab-confirmed cases  \\\n",
       "0                   95.0                          122842   \n",
       "1                    NaN                            6405   \n",
       "2                    NaN                           17324   \n",
       "3                    NaN                           24700   \n",
       "4                    NaN                           10785   \n",
       "\n",
       "   Previously reported cumulative cases  Change in cumulative cases  \n",
       "0                              120614.0                      2228.0  \n",
       "1                                   NaN                         NaN  \n",
       "2                                   NaN                         NaN  \n",
       "3                                   NaN                         NaN  \n",
       "4                                   NaN                         NaN  "
      ]
     },
     "execution_count": 18,
     "metadata": {},
     "output_type": "execute_result"
    }
   ],
   "source": [
    "d.head()"
   ]
  },
  {
   "cell_type": "code",
   "execution_count": 19,
   "metadata": {},
   "outputs": [],
   "source": [
    "df_dict = d.to_dict(orient='records')"
   ]
  },
  {
   "cell_type": "code",
   "execution_count": 20,
   "metadata": {},
   "outputs": [
    {
     "data": {
      "text/plain": [
       "list"
      ]
     },
     "execution_count": 20,
     "metadata": {},
     "output_type": "execute_result"
    }
   ],
   "source": [
    "type(df_dict)"
   ]
  },
  {
   "cell_type": "code",
   "execution_count": 21,
   "metadata": {},
   "outputs": [
    {
     "data": {
      "text/plain": [
       "{'Area name': 'England',\n",
       " 'Area code': 'E92000001',\n",
       " 'Area type': 'Nation',\n",
       " 'Specimen date': Timestamp('2020-05-01 00:00:00'),\n",
       " 'Daily lab-confirmed cases': 95.0,\n",
       " 'Previously reported daily cases': 0.0,\n",
       " 'Change in daily cases': 95.0,\n",
       " 'Cumulative lab-confirmed cases': 122842,\n",
       " 'Previously reported cumulative cases': 120614.0,\n",
       " 'Change in cumulative cases': 2228.0}"
      ]
     },
     "execution_count": 21,
     "metadata": {},
     "output_type": "execute_result"
    }
   ],
   "source": [
    "df_dict[0]"
   ]
  },
  {
   "cell_type": "code",
   "execution_count": 21,
   "metadata": {},
   "outputs": [
    {
     "data": {
      "text/plain": [
       "<pymongo.results.InsertManyResult at 0x796d64cd6f50>"
      ]
     },
     "execution_count": 21,
     "metadata": {},
     "output_type": "execute_result"
    }
   ],
   "source": [
    "coll.insert_many(df_dict)"
   ]
  },
  {
   "cell_type": "markdown",
   "metadata": {},
   "source": [
    "Confirm Insertions - So we have all records in the collection."
   ]
  },
  {
   "cell_type": "code",
   "execution_count": 93,
   "metadata": {},
   "outputs": [
    {
     "data": {
      "text/plain": [
       "8400"
      ]
     },
     "execution_count": 93,
     "metadata": {},
     "output_type": "execute_result"
    }
   ],
   "source": [
    "coll.find().count()"
   ]
  },
  {
   "cell_type": "markdown",
   "metadata": {},
   "source": [
    " "
   ]
  },
  {
   "cell_type": "markdown",
   "metadata": {},
   "source": [
    "### Various DB read queries - Load output to Pandas DF"
   ]
  },
  {
   "cell_type": "markdown",
   "metadata": {},
   "source": [
    "Read in the whole collection"
   ]
  },
  {
   "cell_type": "code",
   "execution_count": 94,
   "metadata": {},
   "outputs": [
    {
     "data": {
      "text/plain": [
       "8400"
      ]
     },
     "execution_count": 94,
     "metadata": {},
     "output_type": "execute_result"
    }
   ],
   "source": [
    "coll.find().count()"
   ]
  },
  {
   "cell_type": "code",
   "execution_count": 89,
   "metadata": {},
   "outputs": [
    {
     "data": {
      "text/plain": [
       "(8400, 11)"
      ]
     },
     "execution_count": 89,
     "metadata": {},
     "output_type": "execute_result"
    }
   ],
   "source": [
    "pd.DataFrame(coll.find()).shape"
   ]
  },
  {
   "cell_type": "code",
   "execution_count": 91,
   "metadata": {},
   "outputs": [
    {
     "data": {
      "text/html": [
       "<div>\n",
       "<style scoped>\n",
       "    .dataframe tbody tr th:only-of-type {\n",
       "        vertical-align: middle;\n",
       "    }\n",
       "\n",
       "    .dataframe tbody tr th {\n",
       "        vertical-align: top;\n",
       "    }\n",
       "\n",
       "    .dataframe thead th {\n",
       "        text-align: right;\n",
       "    }\n",
       "</style>\n",
       "<table border=\"1\" class=\"dataframe\">\n",
       "  <thead>\n",
       "    <tr style=\"text-align: right;\">\n",
       "      <th></th>\n",
       "      <th>_id</th>\n",
       "      <th>Area name</th>\n",
       "      <th>Area code</th>\n",
       "      <th>Area type</th>\n",
       "      <th>Specimen date</th>\n",
       "      <th>Daily lab-confirmed cases</th>\n",
       "      <th>Previously reported daily cases</th>\n",
       "      <th>Change in daily cases</th>\n",
       "      <th>Cumulative lab-confirmed cases</th>\n",
       "      <th>Previously reported cumulative cases</th>\n",
       "      <th>Change in cumulative cases</th>\n",
       "    </tr>\n",
       "  </thead>\n",
       "  <tbody>\n",
       "    <tr>\n",
       "      <th>0</th>\n",
       "      <td>5eadc3722a6eadec96abae8f</td>\n",
       "      <td>England</td>\n",
       "      <td>E92000001</td>\n",
       "      <td>Nation</td>\n",
       "      <td>2020-05-01</td>\n",
       "      <td>95.0</td>\n",
       "      <td>0.0</td>\n",
       "      <td>95.0</td>\n",
       "      <td>122842</td>\n",
       "      <td>120614.0</td>\n",
       "      <td>2228.0</td>\n",
       "    </tr>\n",
       "    <tr>\n",
       "      <th>1</th>\n",
       "      <td>5eadc3722a6eadec96abae90</td>\n",
       "      <td>South West</td>\n",
       "      <td>E12000009</td>\n",
       "      <td>Region</td>\n",
       "      <td>2020-05-01</td>\n",
       "      <td>5.0</td>\n",
       "      <td>NaN</td>\n",
       "      <td>NaN</td>\n",
       "      <td>6405</td>\n",
       "      <td>NaN</td>\n",
       "      <td>NaN</td>\n",
       "    </tr>\n",
       "  </tbody>\n",
       "</table>\n",
       "</div>"
      ],
      "text/plain": [
       "                        _id   Area name  Area code Area type Specimen date  \\\n",
       "0  5eadc3722a6eadec96abae8f     England  E92000001    Nation    2020-05-01   \n",
       "1  5eadc3722a6eadec96abae90  South West  E12000009    Region    2020-05-01   \n",
       "\n",
       "   Daily lab-confirmed cases  Previously reported daily cases  \\\n",
       "0                       95.0                              0.0   \n",
       "1                        5.0                              NaN   \n",
       "\n",
       "   Change in daily cases  Cumulative lab-confirmed cases  \\\n",
       "0                   95.0                          122842   \n",
       "1                    NaN                            6405   \n",
       "\n",
       "   Previously reported cumulative cases  Change in cumulative cases  \n",
       "0                              120614.0                      2228.0  \n",
       "1                                   NaN                         NaN  "
      ]
     },
     "execution_count": 91,
     "metadata": {},
     "output_type": "execute_result"
    }
   ],
   "source": [
    "pd.DataFrame(coll.find()).head(2)"
   ]
  },
  {
   "cell_type": "markdown",
   "metadata": {},
   "source": [
    "## Single filter; Area Name = Islington"
   ]
  },
  {
   "cell_type": "code",
   "execution_count": 95,
   "metadata": {},
   "outputs": [
    {
     "data": {
      "text/plain": [
       "54"
      ]
     },
     "execution_count": 95,
     "metadata": {},
     "output_type": "execute_result"
    }
   ],
   "source": [
    "coll.find({'Area name': 'Islington'}).count()"
   ]
  },
  {
   "cell_type": "code",
   "execution_count": 42,
   "metadata": {},
   "outputs": [
    {
     "data": {
      "text/plain": [
       "{'_id': ObjectId('5eadc3722a6eadec96abaec1'),\n",
       " 'Area name': 'Islington',\n",
       " 'Area code': 'E09000019',\n",
       " 'Area type': 'Upper tier local authority',\n",
       " 'Specimen date': datetime.datetime(2020, 5, 1, 0, 0),\n",
       " 'Daily lab-confirmed cases': 0.0,\n",
       " 'Previously reported daily cases': nan,\n",
       " 'Change in daily cases': nan,\n",
       " 'Cumulative lab-confirmed cases': 414,\n",
       " 'Previously reported cumulative cases': nan,\n",
       " 'Change in cumulative cases': nan}"
      ]
     },
     "execution_count": 42,
     "metadata": {},
     "output_type": "execute_result"
    }
   ],
   "source": [
    "coll.find_one({'Area name': 'Islington'})"
   ]
  },
  {
   "cell_type": "code",
   "execution_count": 43,
   "metadata": {},
   "outputs": [
    {
     "data": {
      "text/plain": [
       "dict"
      ]
     },
     "execution_count": 43,
     "metadata": {},
     "output_type": "execute_result"
    }
   ],
   "source": [
    "type(_)"
   ]
  },
  {
   "cell_type": "code",
   "execution_count": 37,
   "metadata": {},
   "outputs": [
    {
     "data": {
      "text/html": [
       "<div>\n",
       "<style scoped>\n",
       "    .dataframe tbody tr th:only-of-type {\n",
       "        vertical-align: middle;\n",
       "    }\n",
       "\n",
       "    .dataframe tbody tr th {\n",
       "        vertical-align: top;\n",
       "    }\n",
       "\n",
       "    .dataframe thead th {\n",
       "        text-align: right;\n",
       "    }\n",
       "</style>\n",
       "<table border=\"1\" class=\"dataframe\">\n",
       "  <thead>\n",
       "    <tr style=\"text-align: right;\">\n",
       "      <th></th>\n",
       "      <th>_id</th>\n",
       "      <th>Area name</th>\n",
       "      <th>Area code</th>\n",
       "      <th>Area type</th>\n",
       "      <th>Specimen date</th>\n",
       "      <th>Daily lab-confirmed cases</th>\n",
       "      <th>Previously reported daily cases</th>\n",
       "      <th>Change in daily cases</th>\n",
       "      <th>Cumulative lab-confirmed cases</th>\n",
       "      <th>Previously reported cumulative cases</th>\n",
       "      <th>Change in cumulative cases</th>\n",
       "    </tr>\n",
       "  </thead>\n",
       "  <tbody>\n",
       "    <tr>\n",
       "      <th>0</th>\n",
       "      <td>5eadc3722a6eadec96abaec1</td>\n",
       "      <td>Islington</td>\n",
       "      <td>E09000019</td>\n",
       "      <td>Upper tier local authority</td>\n",
       "      <td>2020-05-01</td>\n",
       "      <td>0.0</td>\n",
       "      <td>NaN</td>\n",
       "      <td>NaN</td>\n",
       "      <td>414</td>\n",
       "      <td>NaN</td>\n",
       "      <td>NaN</td>\n",
       "    </tr>\n",
       "    <tr>\n",
       "      <th>1</th>\n",
       "      <td>5eadc3722a6eadec96abaf5b</td>\n",
       "      <td>Islington</td>\n",
       "      <td>E09000019</td>\n",
       "      <td>Upper tier local authority</td>\n",
       "      <td>2020-04-30</td>\n",
       "      <td>1.0</td>\n",
       "      <td>NaN</td>\n",
       "      <td>NaN</td>\n",
       "      <td>414</td>\n",
       "      <td>NaN</td>\n",
       "      <td>NaN</td>\n",
       "    </tr>\n",
       "  </tbody>\n",
       "</table>\n",
       "</div>"
      ],
      "text/plain": [
       "                        _id  Area name  Area code                   Area type  \\\n",
       "0  5eadc3722a6eadec96abaec1  Islington  E09000019  Upper tier local authority   \n",
       "1  5eadc3722a6eadec96abaf5b  Islington  E09000019  Upper tier local authority   \n",
       "\n",
       "  Specimen date  Daily lab-confirmed cases  Previously reported daily cases  \\\n",
       "0    2020-05-01                        0.0                              NaN   \n",
       "1    2020-04-30                        1.0                              NaN   \n",
       "\n",
       "   Change in daily cases  Cumulative lab-confirmed cases  \\\n",
       "0                    NaN                             414   \n",
       "1                    NaN                             414   \n",
       "\n",
       "   Previously reported cumulative cases  Change in cumulative cases  \n",
       "0                                   NaN                         NaN  \n",
       "1                                   NaN                         NaN  "
      ]
     },
     "execution_count": 37,
     "metadata": {},
     "output_type": "execute_result"
    }
   ],
   "source": [
    "pd.DataFrame(coll.find({'Area name': 'Islington'})).head(2)"
   ]
  },
  {
   "cell_type": "markdown",
   "metadata": {},
   "source": [
    "AND filter"
   ]
  },
  {
   "cell_type": "code",
   "execution_count": 96,
   "metadata": {},
   "outputs": [
    {
     "data": {
      "text/plain": [
       "56"
      ]
     },
     "execution_count": 96,
     "metadata": {},
     "output_type": "execute_result"
    }
   ],
   "source": [
    "coll.find({\"Area name\":\"Hounslow\",\"Area type\":\"Upper tier local authority\"}).count()"
   ]
  },
  {
   "cell_type": "code",
   "execution_count": 38,
   "metadata": {},
   "outputs": [
    {
     "data": {
      "text/html": [
       "<div>\n",
       "<style scoped>\n",
       "    .dataframe tbody tr th:only-of-type {\n",
       "        vertical-align: middle;\n",
       "    }\n",
       "\n",
       "    .dataframe tbody tr th {\n",
       "        vertical-align: top;\n",
       "    }\n",
       "\n",
       "    .dataframe thead th {\n",
       "        text-align: right;\n",
       "    }\n",
       "</style>\n",
       "<table border=\"1\" class=\"dataframe\">\n",
       "  <thead>\n",
       "    <tr style=\"text-align: right;\">\n",
       "      <th></th>\n",
       "      <th>_id</th>\n",
       "      <th>Area name</th>\n",
       "      <th>Area code</th>\n",
       "      <th>Area type</th>\n",
       "      <th>Specimen date</th>\n",
       "      <th>Daily lab-confirmed cases</th>\n",
       "      <th>Previously reported daily cases</th>\n",
       "      <th>Change in daily cases</th>\n",
       "      <th>Cumulative lab-confirmed cases</th>\n",
       "      <th>Previously reported cumulative cases</th>\n",
       "      <th>Change in cumulative cases</th>\n",
       "    </tr>\n",
       "  </thead>\n",
       "  <tbody>\n",
       "    <tr>\n",
       "      <th>0</th>\n",
       "      <td>5eadc3722a6eadec96abaec2</td>\n",
       "      <td>Hounslow</td>\n",
       "      <td>E09000018</td>\n",
       "      <td>Upper tier local authority</td>\n",
       "      <td>2020-05-01</td>\n",
       "      <td>0.0</td>\n",
       "      <td>NaN</td>\n",
       "      <td>NaN</td>\n",
       "      <td>653</td>\n",
       "      <td>NaN</td>\n",
       "      <td>NaN</td>\n",
       "    </tr>\n",
       "    <tr>\n",
       "      <th>1</th>\n",
       "      <td>5eadc3722a6eadec96abaf5c</td>\n",
       "      <td>Hounslow</td>\n",
       "      <td>E09000018</td>\n",
       "      <td>Upper tier local authority</td>\n",
       "      <td>2020-04-30</td>\n",
       "      <td>4.0</td>\n",
       "      <td>NaN</td>\n",
       "      <td>NaN</td>\n",
       "      <td>653</td>\n",
       "      <td>NaN</td>\n",
       "      <td>NaN</td>\n",
       "    </tr>\n",
       "  </tbody>\n",
       "</table>\n",
       "</div>"
      ],
      "text/plain": [
       "                        _id Area name  Area code                   Area type  \\\n",
       "0  5eadc3722a6eadec96abaec2  Hounslow  E09000018  Upper tier local authority   \n",
       "1  5eadc3722a6eadec96abaf5c  Hounslow  E09000018  Upper tier local authority   \n",
       "\n",
       "  Specimen date  Daily lab-confirmed cases  Previously reported daily cases  \\\n",
       "0    2020-05-01                        0.0                              NaN   \n",
       "1    2020-04-30                        4.0                              NaN   \n",
       "\n",
       "   Change in daily cases  Cumulative lab-confirmed cases  \\\n",
       "0                    NaN                             653   \n",
       "1                    NaN                             653   \n",
       "\n",
       "   Previously reported cumulative cases  Change in cumulative cases  \n",
       "0                                   NaN                         NaN  \n",
       "1                                   NaN                         NaN  "
      ]
     },
     "execution_count": 38,
     "metadata": {},
     "output_type": "execute_result"
    }
   ],
   "source": [
    "pd.DataFrame(coll.find({\"Area name\":\"Hounslow\",\"Area type\":\"Upper tier local authority\"})).head(2)"
   ]
  },
  {
   "cell_type": "markdown",
   "metadata": {},
   "source": [
    "OR Filter"
   ]
  },
  {
   "cell_type": "code",
   "execution_count": 97,
   "metadata": {},
   "outputs": [
    {
     "data": {
      "text/plain": [
       "110"
      ]
     },
     "execution_count": 97,
     "metadata": {},
     "output_type": "execute_result"
    }
   ],
   "source": [
    "coll.find({\"$or\":[{\"Area name\":\"Hounslow\"},{\"Area name\":\"Islington\"}]}).count()"
   ]
  },
  {
   "cell_type": "code",
   "execution_count": 46,
   "metadata": {},
   "outputs": [
    {
     "data": {
      "text/html": [
       "<div>\n",
       "<style scoped>\n",
       "    .dataframe tbody tr th:only-of-type {\n",
       "        vertical-align: middle;\n",
       "    }\n",
       "\n",
       "    .dataframe tbody tr th {\n",
       "        vertical-align: top;\n",
       "    }\n",
       "\n",
       "    .dataframe thead th {\n",
       "        text-align: right;\n",
       "    }\n",
       "</style>\n",
       "<table border=\"1\" class=\"dataframe\">\n",
       "  <thead>\n",
       "    <tr style=\"text-align: right;\">\n",
       "      <th></th>\n",
       "      <th>_id</th>\n",
       "      <th>Area name</th>\n",
       "      <th>Area code</th>\n",
       "      <th>Area type</th>\n",
       "      <th>Specimen date</th>\n",
       "      <th>Daily lab-confirmed cases</th>\n",
       "      <th>Previously reported daily cases</th>\n",
       "      <th>Change in daily cases</th>\n",
       "      <th>Cumulative lab-confirmed cases</th>\n",
       "      <th>Previously reported cumulative cases</th>\n",
       "      <th>Change in cumulative cases</th>\n",
       "    </tr>\n",
       "  </thead>\n",
       "  <tbody>\n",
       "    <tr>\n",
       "      <th>37</th>\n",
       "      <td>5eadc3722a6eadec96abba49</td>\n",
       "      <td>Hounslow</td>\n",
       "      <td>E09000018</td>\n",
       "      <td>Upper tier local authority</td>\n",
       "      <td>2020-04-12</td>\n",
       "      <td>10.0</td>\n",
       "      <td>NaN</td>\n",
       "      <td>NaN</td>\n",
       "      <td>503</td>\n",
       "      <td>NaN</td>\n",
       "      <td>NaN</td>\n",
       "    </tr>\n",
       "    <tr>\n",
       "      <th>19</th>\n",
       "      <td>5eadc3722a6eadec96abb4bd</td>\n",
       "      <td>Islington</td>\n",
       "      <td>E09000019</td>\n",
       "      <td>Upper tier local authority</td>\n",
       "      <td>2020-04-21</td>\n",
       "      <td>2.0</td>\n",
       "      <td>NaN</td>\n",
       "      <td>NaN</td>\n",
       "      <td>391</td>\n",
       "      <td>NaN</td>\n",
       "      <td>NaN</td>\n",
       "    </tr>\n",
       "  </tbody>\n",
       "</table>\n",
       "</div>"
      ],
      "text/plain": [
       "                         _id  Area name  Area code  \\\n",
       "37  5eadc3722a6eadec96abba49   Hounslow  E09000018   \n",
       "19  5eadc3722a6eadec96abb4bd  Islington  E09000019   \n",
       "\n",
       "                     Area type Specimen date  Daily lab-confirmed cases  \\\n",
       "37  Upper tier local authority    2020-04-12                       10.0   \n",
       "19  Upper tier local authority    2020-04-21                        2.0   \n",
       "\n",
       "    Previously reported daily cases  Change in daily cases  \\\n",
       "37                              NaN                    NaN   \n",
       "19                              NaN                    NaN   \n",
       "\n",
       "    Cumulative lab-confirmed cases  Previously reported cumulative cases  \\\n",
       "37                             503                                   NaN   \n",
       "19                             391                                   NaN   \n",
       "\n",
       "    Change in cumulative cases  \n",
       "37                         NaN  \n",
       "19                         NaN  "
      ]
     },
     "execution_count": 46,
     "metadata": {},
     "output_type": "execute_result"
    }
   ],
   "source": [
    "pd.DataFrame(coll.find({\"$or\":[{\"Area name\":\"Hounslow\"},{\"Area name\":\"Islington\"}]})).sample(2)"
   ]
  },
  {
   "cell_type": "markdown",
   "metadata": {},
   "source": [
    "IN Filter"
   ]
  },
  {
   "cell_type": "code",
   "execution_count": 98,
   "metadata": {},
   "outputs": [
    {
     "data": {
      "text/plain": [
       "110"
      ]
     },
     "execution_count": 98,
     "metadata": {},
     "output_type": "execute_result"
    }
   ],
   "source": [
    "coll.find({\"Area name\":{\"$in\":[\"Hounslow\",\"Islington\"]}}).count()"
   ]
  },
  {
   "cell_type": "code",
   "execution_count": 100,
   "metadata": {},
   "outputs": [
    {
     "data": {
      "text/html": [
       "<div>\n",
       "<style scoped>\n",
       "    .dataframe tbody tr th:only-of-type {\n",
       "        vertical-align: middle;\n",
       "    }\n",
       "\n",
       "    .dataframe tbody tr th {\n",
       "        vertical-align: top;\n",
       "    }\n",
       "\n",
       "    .dataframe thead th {\n",
       "        text-align: right;\n",
       "    }\n",
       "</style>\n",
       "<table border=\"1\" class=\"dataframe\">\n",
       "  <thead>\n",
       "    <tr style=\"text-align: right;\">\n",
       "      <th></th>\n",
       "      <th>_id</th>\n",
       "      <th>Area name</th>\n",
       "      <th>Area code</th>\n",
       "      <th>Area type</th>\n",
       "      <th>Specimen date</th>\n",
       "      <th>Daily lab-confirmed cases</th>\n",
       "      <th>Previously reported daily cases</th>\n",
       "      <th>Change in daily cases</th>\n",
       "      <th>Cumulative lab-confirmed cases</th>\n",
       "      <th>Previously reported cumulative cases</th>\n",
       "      <th>Change in cumulative cases</th>\n",
       "    </tr>\n",
       "  </thead>\n",
       "  <tbody>\n",
       "    <tr>\n",
       "      <th>62</th>\n",
       "      <td>5eadc3722a6eadec96abc251</td>\n",
       "      <td>Islington</td>\n",
       "      <td>E09000019</td>\n",
       "      <td>Upper tier local authority</td>\n",
       "      <td>2020-03-30</td>\n",
       "      <td>18.0</td>\n",
       "      <td>NaN</td>\n",
       "      <td>NaN</td>\n",
       "      <td>194</td>\n",
       "      <td>NaN</td>\n",
       "      <td>NaN</td>\n",
       "    </tr>\n",
       "    <tr>\n",
       "      <th>85</th>\n",
       "      <td>5eadc3722a6eadec96abc8f4</td>\n",
       "      <td>Hounslow</td>\n",
       "      <td>E09000018</td>\n",
       "      <td>Upper tier local authority</td>\n",
       "      <td>2020-03-19</td>\n",
       "      <td>13.0</td>\n",
       "      <td>NaN</td>\n",
       "      <td>NaN</td>\n",
       "      <td>67</td>\n",
       "      <td>NaN</td>\n",
       "      <td>NaN</td>\n",
       "    </tr>\n",
       "  </tbody>\n",
       "</table>\n",
       "</div>"
      ],
      "text/plain": [
       "                         _id  Area name  Area code  \\\n",
       "62  5eadc3722a6eadec96abc251  Islington  E09000019   \n",
       "85  5eadc3722a6eadec96abc8f4   Hounslow  E09000018   \n",
       "\n",
       "                     Area type Specimen date  Daily lab-confirmed cases  \\\n",
       "62  Upper tier local authority    2020-03-30                       18.0   \n",
       "85  Upper tier local authority    2020-03-19                       13.0   \n",
       "\n",
       "    Previously reported daily cases  Change in daily cases  \\\n",
       "62                              NaN                    NaN   \n",
       "85                              NaN                    NaN   \n",
       "\n",
       "    Cumulative lab-confirmed cases  Previously reported cumulative cases  \\\n",
       "62                             194                                   NaN   \n",
       "85                              67                                   NaN   \n",
       "\n",
       "    Change in cumulative cases  \n",
       "62                         NaN  \n",
       "85                         NaN  "
      ]
     },
     "execution_count": 100,
     "metadata": {},
     "output_type": "execute_result"
    }
   ],
   "source": [
    "pd.DataFrame(coll.find({\"Area name\":{\"$in\":[\"Hounslow\",\"Islington\"]}})).sample(2)"
   ]
  },
  {
   "cell_type": "markdown",
   "metadata": {},
   "source": [
    "NOT IN Filter"
   ]
  },
  {
   "cell_type": "code",
   "execution_count": 101,
   "metadata": {},
   "outputs": [
    {
     "data": {
      "text/plain": [
       "8346"
      ]
     },
     "execution_count": 101,
     "metadata": {},
     "output_type": "execute_result"
    }
   ],
   "source": [
    "coll.find({\"Area name\":{\"$nin\":[\"Upper tier local authority\t\",\"Islington\"]}}).count() "
   ]
  },
  {
   "cell_type": "code",
   "execution_count": 54,
   "metadata": {},
   "outputs": [
    {
     "data": {
      "text/html": [
       "<div>\n",
       "<style scoped>\n",
       "    .dataframe tbody tr th:only-of-type {\n",
       "        vertical-align: middle;\n",
       "    }\n",
       "\n",
       "    .dataframe tbody tr th {\n",
       "        vertical-align: top;\n",
       "    }\n",
       "\n",
       "    .dataframe thead th {\n",
       "        text-align: right;\n",
       "    }\n",
       "</style>\n",
       "<table border=\"1\" class=\"dataframe\">\n",
       "  <thead>\n",
       "    <tr style=\"text-align: right;\">\n",
       "      <th></th>\n",
       "      <th>_id</th>\n",
       "      <th>Area name</th>\n",
       "      <th>Area code</th>\n",
       "      <th>Area type</th>\n",
       "      <th>Specimen date</th>\n",
       "      <th>Daily lab-confirmed cases</th>\n",
       "      <th>Previously reported daily cases</th>\n",
       "      <th>Change in daily cases</th>\n",
       "      <th>Cumulative lab-confirmed cases</th>\n",
       "      <th>Previously reported cumulative cases</th>\n",
       "      <th>Change in cumulative cases</th>\n",
       "    </tr>\n",
       "  </thead>\n",
       "  <tbody>\n",
       "    <tr>\n",
       "      <th>0</th>\n",
       "      <td>5eadc3722a6eadec96abae8f</td>\n",
       "      <td>England</td>\n",
       "      <td>E92000001</td>\n",
       "      <td>Nation</td>\n",
       "      <td>2020-05-01</td>\n",
       "      <td>95.0</td>\n",
       "      <td>0.0</td>\n",
       "      <td>95.0</td>\n",
       "      <td>122842</td>\n",
       "      <td>120614.0</td>\n",
       "      <td>2228.0</td>\n",
       "    </tr>\n",
       "    <tr>\n",
       "      <th>1</th>\n",
       "      <td>5eadc3722a6eadec96abae90</td>\n",
       "      <td>South West</td>\n",
       "      <td>E12000009</td>\n",
       "      <td>Region</td>\n",
       "      <td>2020-05-01</td>\n",
       "      <td>5.0</td>\n",
       "      <td>NaN</td>\n",
       "      <td>NaN</td>\n",
       "      <td>6405</td>\n",
       "      <td>NaN</td>\n",
       "      <td>NaN</td>\n",
       "    </tr>\n",
       "  </tbody>\n",
       "</table>\n",
       "</div>"
      ],
      "text/plain": [
       "                        _id   Area name  Area code Area type Specimen date  \\\n",
       "0  5eadc3722a6eadec96abae8f     England  E92000001    Nation    2020-05-01   \n",
       "1  5eadc3722a6eadec96abae90  South West  E12000009    Region    2020-05-01   \n",
       "\n",
       "   Daily lab-confirmed cases  Previously reported daily cases  \\\n",
       "0                       95.0                              0.0   \n",
       "1                        5.0                              NaN   \n",
       "\n",
       "   Change in daily cases  Cumulative lab-confirmed cases  \\\n",
       "0                   95.0                          122842   \n",
       "1                    NaN                            6405   \n",
       "\n",
       "   Previously reported cumulative cases  Change in cumulative cases  \n",
       "0                              120614.0                      2228.0  \n",
       "1                                   NaN                         NaN  "
      ]
     },
     "execution_count": 54,
     "metadata": {},
     "output_type": "execute_result"
    }
   ],
   "source": [
    "pd.DataFrame(coll.find({\"Area name\":{\"$nin\":[\"Hounslow\",\"Islington\"]}})).head(2)"
   ]
  },
  {
   "cell_type": "markdown",
   "metadata": {},
   "source": [
    "Greater than - While also using date"
   ]
  },
  {
   "cell_type": "code",
   "execution_count": 102,
   "metadata": {},
   "outputs": [
    {
     "data": {
      "text/plain": [
       "160"
      ]
     },
     "execution_count": 102,
     "metadata": {},
     "output_type": "execute_result"
    }
   ],
   "source": [
    "coll.find({'Specimen date':{\"$gt\":datetime(2020,4,30)}}).count()"
   ]
  },
  {
   "cell_type": "code",
   "execution_count": 73,
   "metadata": {},
   "outputs": [
    {
     "data": {
      "text/html": [
       "<div>\n",
       "<style scoped>\n",
       "    .dataframe tbody tr th:only-of-type {\n",
       "        vertical-align: middle;\n",
       "    }\n",
       "\n",
       "    .dataframe tbody tr th {\n",
       "        vertical-align: top;\n",
       "    }\n",
       "\n",
       "    .dataframe thead th {\n",
       "        text-align: right;\n",
       "    }\n",
       "</style>\n",
       "<table border=\"1\" class=\"dataframe\">\n",
       "  <thead>\n",
       "    <tr style=\"text-align: right;\">\n",
       "      <th></th>\n",
       "      <th>_id</th>\n",
       "      <th>Area name</th>\n",
       "      <th>Area code</th>\n",
       "      <th>Area type</th>\n",
       "      <th>Specimen date</th>\n",
       "      <th>Daily lab-confirmed cases</th>\n",
       "      <th>Previously reported daily cases</th>\n",
       "      <th>Change in daily cases</th>\n",
       "      <th>Cumulative lab-confirmed cases</th>\n",
       "      <th>Previously reported cumulative cases</th>\n",
       "      <th>Change in cumulative cases</th>\n",
       "    </tr>\n",
       "  </thead>\n",
       "  <tbody>\n",
       "    <tr>\n",
       "      <th>0</th>\n",
       "      <td>5eadc3722a6eadec96abae8f</td>\n",
       "      <td>England</td>\n",
       "      <td>E92000001</td>\n",
       "      <td>Nation</td>\n",
       "      <td>2020-05-01</td>\n",
       "      <td>95.0</td>\n",
       "      <td>0.0</td>\n",
       "      <td>95.0</td>\n",
       "      <td>122842</td>\n",
       "      <td>120614.0</td>\n",
       "      <td>2228.0</td>\n",
       "    </tr>\n",
       "    <tr>\n",
       "      <th>1</th>\n",
       "      <td>5eadc3722a6eadec96abae90</td>\n",
       "      <td>South West</td>\n",
       "      <td>E12000009</td>\n",
       "      <td>Region</td>\n",
       "      <td>2020-05-01</td>\n",
       "      <td>5.0</td>\n",
       "      <td>NaN</td>\n",
       "      <td>NaN</td>\n",
       "      <td>6405</td>\n",
       "      <td>NaN</td>\n",
       "      <td>NaN</td>\n",
       "    </tr>\n",
       "  </tbody>\n",
       "</table>\n",
       "</div>"
      ],
      "text/plain": [
       "                        _id   Area name  Area code Area type Specimen date  \\\n",
       "0  5eadc3722a6eadec96abae8f     England  E92000001    Nation    2020-05-01   \n",
       "1  5eadc3722a6eadec96abae90  South West  E12000009    Region    2020-05-01   \n",
       "\n",
       "   Daily lab-confirmed cases  Previously reported daily cases  \\\n",
       "0                       95.0                              0.0   \n",
       "1                        5.0                              NaN   \n",
       "\n",
       "   Change in daily cases  Cumulative lab-confirmed cases  \\\n",
       "0                   95.0                          122842   \n",
       "1                    NaN                            6405   \n",
       "\n",
       "   Previously reported cumulative cases  Change in cumulative cases  \n",
       "0                              120614.0                      2228.0  \n",
       "1                                   NaN                         NaN  "
      ]
     },
     "execution_count": 73,
     "metadata": {},
     "output_type": "execute_result"
    }
   ],
   "source": [
    "pd.DataFrame(coll.find({'Specimen date':{\"$gt\":datetime(2020,4,30)}})).head(2)"
   ]
  },
  {
   "cell_type": "markdown",
   "metadata": {},
   "source": [
    "Between - Using dates"
   ]
  },
  {
   "cell_type": "code",
   "execution_count": 103,
   "metadata": {},
   "outputs": [
    {
     "data": {
      "text/plain": [
       "125"
      ]
     },
     "execution_count": 103,
     "metadata": {},
     "output_type": "execute_result"
    }
   ],
   "source": [
    "coll.find({\"Specimen date\": {\"$gte\": datetime(2020,4,30), \"$lt\": datetime(2020,5,1)}}).count()"
   ]
  },
  {
   "cell_type": "code",
   "execution_count": 75,
   "metadata": {},
   "outputs": [
    {
     "data": {
      "text/html": [
       "<div>\n",
       "<style scoped>\n",
       "    .dataframe tbody tr th:only-of-type {\n",
       "        vertical-align: middle;\n",
       "    }\n",
       "\n",
       "    .dataframe tbody tr th {\n",
       "        vertical-align: top;\n",
       "    }\n",
       "\n",
       "    .dataframe thead th {\n",
       "        text-align: right;\n",
       "    }\n",
       "</style>\n",
       "<table border=\"1\" class=\"dataframe\">\n",
       "  <thead>\n",
       "    <tr style=\"text-align: right;\">\n",
       "      <th></th>\n",
       "      <th>_id</th>\n",
       "      <th>Area name</th>\n",
       "      <th>Area code</th>\n",
       "      <th>Area type</th>\n",
       "      <th>Specimen date</th>\n",
       "      <th>Daily lab-confirmed cases</th>\n",
       "      <th>Previously reported daily cases</th>\n",
       "      <th>Change in daily cases</th>\n",
       "      <th>Cumulative lab-confirmed cases</th>\n",
       "      <th>Previously reported cumulative cases</th>\n",
       "      <th>Change in cumulative cases</th>\n",
       "    </tr>\n",
       "  </thead>\n",
       "  <tbody>\n",
       "    <tr>\n",
       "      <th>0</th>\n",
       "      <td>5eadc3722a6eadec96abaf2f</td>\n",
       "      <td>England</td>\n",
       "      <td>E92000001</td>\n",
       "      <td>Nation</td>\n",
       "      <td>2020-04-30</td>\n",
       "      <td>707.0</td>\n",
       "      <td>85.0</td>\n",
       "      <td>622.0</td>\n",
       "      <td>122747</td>\n",
       "      <td>120614.0</td>\n",
       "      <td>2133.0</td>\n",
       "    </tr>\n",
       "    <tr>\n",
       "      <th>1</th>\n",
       "      <td>5eadc3722a6eadec96abaf30</td>\n",
       "      <td>South West</td>\n",
       "      <td>E12000009</td>\n",
       "      <td>Region</td>\n",
       "      <td>2020-04-30</td>\n",
       "      <td>46.0</td>\n",
       "      <td>NaN</td>\n",
       "      <td>NaN</td>\n",
       "      <td>6400</td>\n",
       "      <td>NaN</td>\n",
       "      <td>NaN</td>\n",
       "    </tr>\n",
       "  </tbody>\n",
       "</table>\n",
       "</div>"
      ],
      "text/plain": [
       "                        _id   Area name  Area code Area type Specimen date  \\\n",
       "0  5eadc3722a6eadec96abaf2f     England  E92000001    Nation    2020-04-30   \n",
       "1  5eadc3722a6eadec96abaf30  South West  E12000009    Region    2020-04-30   \n",
       "\n",
       "   Daily lab-confirmed cases  Previously reported daily cases  \\\n",
       "0                      707.0                             85.0   \n",
       "1                       46.0                              NaN   \n",
       "\n",
       "   Change in daily cases  Cumulative lab-confirmed cases  \\\n",
       "0                  622.0                          122747   \n",
       "1                    NaN                            6400   \n",
       "\n",
       "   Previously reported cumulative cases  Change in cumulative cases  \n",
       "0                              120614.0                      2133.0  \n",
       "1                                   NaN                         NaN  "
      ]
     },
     "execution_count": 75,
     "metadata": {},
     "output_type": "execute_result"
    }
   ],
   "source": [
    "pd.DataFrame(coll.find({\"Specimen date\": {\"$gte\": datetime(2020,4,30), \"$lt\": datetime(2020,5,1)}})).head(2)"
   ]
  },
  {
   "cell_type": "markdown",
   "metadata": {},
   "source": [
    "Regex"
   ]
  },
  {
   "cell_type": "code",
   "execution_count": 58,
   "metadata": {},
   "outputs": [
    {
     "data": {
      "text/plain": [
       "{'_id': ObjectId('5eadc3722a6eadec96abae8f'),\n",
       " 'Area name': 'England',\n",
       " 'Area code': 'E92000001',\n",
       " 'Area type': 'Nation',\n",
       " 'Specimen date': datetime.datetime(2020, 5, 1, 0, 0),\n",
       " 'Daily lab-confirmed cases': 95.0,\n",
       " 'Previously reported daily cases': 0.0,\n",
       " 'Change in daily cases': 95.0,\n",
       " 'Cumulative lab-confirmed cases': 122842,\n",
       " 'Previously reported cumulative cases': 120614.0,\n",
       " 'Change in cumulative cases': 2228.0}"
      ]
     },
     "execution_count": 58,
     "metadata": {},
     "output_type": "execute_result"
    }
   ],
   "source": [
    "import re\n",
    "regex = re.compile(r'Engla*')\n",
    "rstats = coll.find_one({\"Area name\":regex})\n",
    "rstats"
   ]
  },
  {
   "cell_type": "markdown",
   "metadata": {},
   "source": [
    "Filter, Sort and Limit - Five worse days in terms of cases for a borough"
   ]
  },
  {
   "cell_type": "code",
   "execution_count": 65,
   "metadata": {},
   "outputs": [
    {
     "data": {
      "text/html": [
       "<div>\n",
       "<style scoped>\n",
       "    .dataframe tbody tr th:only-of-type {\n",
       "        vertical-align: middle;\n",
       "    }\n",
       "\n",
       "    .dataframe tbody tr th {\n",
       "        vertical-align: top;\n",
       "    }\n",
       "\n",
       "    .dataframe thead th {\n",
       "        text-align: right;\n",
       "    }\n",
       "</style>\n",
       "<table border=\"1\" class=\"dataframe\">\n",
       "  <thead>\n",
       "    <tr style=\"text-align: right;\">\n",
       "      <th></th>\n",
       "      <th>_id</th>\n",
       "      <th>Area name</th>\n",
       "      <th>Area code</th>\n",
       "      <th>Area type</th>\n",
       "      <th>Specimen date</th>\n",
       "      <th>Daily lab-confirmed cases</th>\n",
       "      <th>Previously reported daily cases</th>\n",
       "      <th>Change in daily cases</th>\n",
       "      <th>Cumulative lab-confirmed cases</th>\n",
       "      <th>Previously reported cumulative cases</th>\n",
       "      <th>Change in cumulative cases</th>\n",
       "    </tr>\n",
       "  </thead>\n",
       "  <tbody>\n",
       "    <tr>\n",
       "      <th>0</th>\n",
       "      <td>5eadc3722a6eadec96abc077</td>\n",
       "      <td>Hounslow</td>\n",
       "      <td>E09000018</td>\n",
       "      <td>Upper tier local authority</td>\n",
       "      <td>2020-04-02</td>\n",
       "      <td>33.0</td>\n",
       "      <td>NaN</td>\n",
       "      <td>NaN</td>\n",
       "      <td>321</td>\n",
       "      <td>NaN</td>\n",
       "      <td>NaN</td>\n",
       "    </tr>\n",
       "    <tr>\n",
       "      <th>1</th>\n",
       "      <td>5eadc3722a6eadec96abc115</td>\n",
       "      <td>Hounslow</td>\n",
       "      <td>E09000018</td>\n",
       "      <td>Upper tier local authority</td>\n",
       "      <td>2020-04-01</td>\n",
       "      <td>32.0</td>\n",
       "      <td>NaN</td>\n",
       "      <td>NaN</td>\n",
       "      <td>288</td>\n",
       "      <td>NaN</td>\n",
       "      <td>NaN</td>\n",
       "    </tr>\n",
       "    <tr>\n",
       "      <th>2</th>\n",
       "      <td>5eadc3722a6eadec96abc42c</td>\n",
       "      <td>Hounslow</td>\n",
       "      <td>E09000018</td>\n",
       "      <td>Upper tier local authority</td>\n",
       "      <td>2020-03-27</td>\n",
       "      <td>27.0</td>\n",
       "      <td>NaN</td>\n",
       "      <td>NaN</td>\n",
       "      <td>187</td>\n",
       "      <td>NaN</td>\n",
       "      <td>NaN</td>\n",
       "    </tr>\n",
       "    <tr>\n",
       "      <th>3</th>\n",
       "      <td>5eadc3722a6eadec96abbc25</td>\n",
       "      <td>Hounslow</td>\n",
       "      <td>E09000018</td>\n",
       "      <td>Upper tier local authority</td>\n",
       "      <td>2020-04-09</td>\n",
       "      <td>24.0</td>\n",
       "      <td>NaN</td>\n",
       "      <td>NaN</td>\n",
       "      <td>468</td>\n",
       "      <td>NaN</td>\n",
       "      <td>NaN</td>\n",
       "    </tr>\n",
       "    <tr>\n",
       "      <th>4</th>\n",
       "      <td>5eadc3722a6eadec96abbfd9</td>\n",
       "      <td>Hounslow</td>\n",
       "      <td>E09000018</td>\n",
       "      <td>Upper tier local authority</td>\n",
       "      <td>2020-04-03</td>\n",
       "      <td>24.0</td>\n",
       "      <td>NaN</td>\n",
       "      <td>NaN</td>\n",
       "      <td>345</td>\n",
       "      <td>NaN</td>\n",
       "      <td>NaN</td>\n",
       "    </tr>\n",
       "  </tbody>\n",
       "</table>\n",
       "</div>"
      ],
      "text/plain": [
       "                        _id Area name  Area code                   Area type  \\\n",
       "0  5eadc3722a6eadec96abc077  Hounslow  E09000018  Upper tier local authority   \n",
       "1  5eadc3722a6eadec96abc115  Hounslow  E09000018  Upper tier local authority   \n",
       "2  5eadc3722a6eadec96abc42c  Hounslow  E09000018  Upper tier local authority   \n",
       "3  5eadc3722a6eadec96abbc25  Hounslow  E09000018  Upper tier local authority   \n",
       "4  5eadc3722a6eadec96abbfd9  Hounslow  E09000018  Upper tier local authority   \n",
       "\n",
       "  Specimen date  Daily lab-confirmed cases  Previously reported daily cases  \\\n",
       "0    2020-04-02                       33.0                              NaN   \n",
       "1    2020-04-01                       32.0                              NaN   \n",
       "2    2020-03-27                       27.0                              NaN   \n",
       "3    2020-04-09                       24.0                              NaN   \n",
       "4    2020-04-03                       24.0                              NaN   \n",
       "\n",
       "   Change in daily cases  Cumulative lab-confirmed cases  \\\n",
       "0                    NaN                             321   \n",
       "1                    NaN                             288   \n",
       "2                    NaN                             187   \n",
       "3                    NaN                             468   \n",
       "4                    NaN                             345   \n",
       "\n",
       "   Previously reported cumulative cases  Change in cumulative cases  \n",
       "0                                   NaN                         NaN  \n",
       "1                                   NaN                         NaN  \n",
       "2                                   NaN                         NaN  \n",
       "3                                   NaN                         NaN  \n",
       "4                                   NaN                         NaN  "
      ]
     },
     "execution_count": 65,
     "metadata": {},
     "output_type": "execute_result"
    }
   ],
   "source": [
    "pd.DataFrame(coll.find({\"Area name\":\"Hounslow\"}).sort([(\"Daily lab-confirmed cases\", pymongo.DESCENDING)]).limit(5))"
   ]
  },
  {
   "cell_type": "markdown",
   "metadata": {},
   "source": [
    " "
   ]
  },
  {
   "cell_type": "markdown",
   "metadata": {},
   "source": [
    "### Updating Documents in Mongo"
   ]
  },
  {
   "cell_type": "code",
   "execution_count": 136,
   "metadata": {},
   "outputs": [
    {
     "data": {
      "text/plain": [
       "{'nIndexesWas': 1, 'ns': 'database.counter', 'ok': 1.0}"
      ]
     },
     "execution_count": 136,
     "metadata": {},
     "output_type": "execute_result"
    }
   ],
   "source": [
    "db.drop_collection('counter')"
   ]
  },
  {
   "cell_type": "code",
   "execution_count": 137,
   "metadata": {},
   "outputs": [],
   "source": [
    "counter_coll = db['counter']"
   ]
  },
  {
   "cell_type": "code",
   "execution_count": 138,
   "metadata": {},
   "outputs": [
    {
     "data": {
      "text/plain": [
       "<pymongo.results.InsertManyResult at 0x7f6a1fd09320>"
      ]
     },
     "execution_count": 138,
     "metadata": {},
     "output_type": "execute_result"
    }
   ],
   "source": [
    "counter_coll.insert_many([{'process_id':'ABC','run':10},{'process_id':'DEF','run':54},{'process_id':'DEF','run':77},{'process_id':'GHI','run':100},{'process_id':'JKL','run':392}])"
   ]
  },
  {
   "cell_type": "code",
   "execution_count": 139,
   "metadata": {},
   "outputs": [
    {
     "data": {
      "text/plain": [
       "[{'_id': ObjectId('5eae90872defff6ac9d117ed'), 'process_id': 'ABC', 'run': 10},\n",
       " {'_id': ObjectId('5eae90872defff6ac9d117ee'), 'process_id': 'DEF', 'run': 54},\n",
       " {'_id': ObjectId('5eae90872defff6ac9d117ef'), 'process_id': 'DEF', 'run': 77},\n",
       " {'_id': ObjectId('5eae90872defff6ac9d117f0'),\n",
       "  'process_id': 'GHI',\n",
       "  'run': 100},\n",
       " {'_id': ObjectId('5eae90872defff6ac9d117f1'),\n",
       "  'process_id': 'JKL',\n",
       "  'run': 392}]"
      ]
     },
     "execution_count": 139,
     "metadata": {},
     "output_type": "execute_result"
    }
   ],
   "source": [
    "[x for x in counter_coll.find()]"
   ]
  },
  {
   "cell_type": "markdown",
   "metadata": {},
   "source": [
    "In my use case, I will have dict with updated values for key, we need to update them in mongo."
   ]
  },
  {
   "cell_type": "code",
   "execution_count": 140,
   "metadata": {},
   "outputs": [],
   "source": [
    "new_d = dict({'ABC':23,'DEF':34,'JKL':305})"
   ]
  },
  {
   "cell_type": "code",
   "execution_count": 141,
   "metadata": {},
   "outputs": [
    {
     "data": {
      "text/plain": [
       "{'ABC': 23, 'DEF': 34, 'JKL': 305}"
      ]
     },
     "execution_count": 141,
     "metadata": {},
     "output_type": "execute_result"
    }
   ],
   "source": [
    "new_d"
   ]
  },
  {
   "cell_type": "markdown",
   "metadata": {},
   "source": [
    "Not sure if this is best way of doing it, but should do for now."
   ]
  },
  {
   "cell_type": "code",
   "execution_count": 144,
   "metadata": {},
   "outputs": [],
   "source": [
    "for k,v in new_d.items():\n",
    "    counter_coll.update({'process_id':k},{'run':v})"
   ]
  },
  {
   "cell_type": "code",
   "execution_count": 145,
   "metadata": {},
   "outputs": [
    {
     "data": {
      "text/plain": [
       "[{'_id': ObjectId('5eae90872defff6ac9d117ed'), 'run': 23},\n",
       " {'_id': ObjectId('5eae90872defff6ac9d117ee'), 'run': 34},\n",
       " {'_id': ObjectId('5eae90872defff6ac9d117ef'), 'process_id': 'DEF', 'run': 77},\n",
       " {'_id': ObjectId('5eae90872defff6ac9d117f0'),\n",
       "  'process_id': 'GHI',\n",
       "  'run': 100},\n",
       " {'_id': ObjectId('5eae90872defff6ac9d117f1'), 'run': 305}]"
      ]
     },
     "execution_count": 145,
     "metadata": {},
     "output_type": "execute_result"
    }
   ],
   "source": [
    "[x for x in counter_coll.find()]"
   ]
  },
  {
   "cell_type": "code",
   "execution_count": null,
   "metadata": {},
   "outputs": [],
   "source": []
  }
 ],
 "metadata": {
  "kernelspec": {
   "display_name": "Python 3",
   "language": "python",
   "name": "python3"
  },
  "language_info": {
   "codemirror_mode": {
    "name": "ipython",
    "version": 3
   },
   "file_extension": ".py",
   "mimetype": "text/x-python",
   "name": "python",
   "nbconvert_exporter": "python",
   "pygments_lexer": "ipython3",
   "version": "3.7.6"
  }
 },
 "nbformat": 4,
 "nbformat_minor": 4
}
